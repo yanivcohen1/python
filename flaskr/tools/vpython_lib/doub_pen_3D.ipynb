{
 "cells": [
  {
   "cell_type": "markdown",
   "metadata": {},
   "source": [
    "Install specific version of sympy"
   ]
  },
  {
   "cell_type": "code",
   "execution_count": 38,
   "metadata": {},
   "outputs": [
    {
     "name": "stdout",
     "output_type": "stream",
     "text": [
      "Requirement already satisfied: sympy==1.6.2 in c:\\users\\yaniv\\onedrive\\python-flask\\venv\\lib\\site-packages (1.6.2)\n",
      "Requirement already satisfied: mpmath>=0.19 in c:\\users\\yaniv\\onedrive\\python-flask\\venv\\lib\\site-packages (from sympy==1.6.2) (1.3.0)\n",
      "Note: you may need to restart the kernel to use updated packages.\n"
     ]
    }
   ],
   "source": [
    "%pip install sympy==1.6.2"
   ]
  },
  {
   "cell_type": "markdown",
   "metadata": {},
   "source": [
    "Import packages"
   ]
  },
  {
   "cell_type": "code",
   "execution_count": 39,
   "metadata": {},
   "outputs": [],
   "source": [
    "import numpy as np\n",
    "import sympy as smp\n",
    "from scipy.integrate import odeint\n",
    "from sympy.solvers.solveset import linsolve, nonlinsolve\n",
    "import matplotlib.pyplot as plt\n",
    "from IPython.display import Image"
   ]
  },
  {
   "cell_type": "markdown",
   "metadata": {},
   "source": [
    "<p align=\"center\">\n",
    "  <img src=\"doub_pen_3D.PNG\" alt=\"drawing\" width=\"400\" align=\"center\"/>\n",
    "</p>"
   ]
  },
  {
   "cell_type": "markdown",
   "metadata": {},
   "source": [
    "Define all appropriate symbols using sympy. "
   ]
  },
  {
   "cell_type": "code",
   "execution_count": 40,
   "metadata": {},
   "outputs": [],
   "source": [
    "t, g = smp.symbols('t g')\n",
    "m1, m2 = smp.symbols('m1 m2')\n",
    "L1, L2 = smp.symbols('L1, L2')"
   ]
  },
  {
   "cell_type": "markdown",
   "metadata": {},
   "source": [
    "$\\theta_1$ and $\\theta_2$ and $\\phi_1$ and $\\phi_2$ are functions of time (which we will eventually solve for). We need to define them carefully."
   ]
  },
  {
   "cell_type": "code",
   "execution_count": 41,
   "metadata": {},
   "outputs": [],
   "source": [
    "the1, the2, phi1, phi2 = smp.symbols(r'\\theta_1, \\theta_2 \\phi_1 \\phi_2', cls=smp.Function)"
   ]
  },
  {
   "cell_type": "markdown",
   "metadata": {},
   "source": [
    "Explicitly write them as functions of time $t$:"
   ]
  },
  {
   "cell_type": "code",
   "execution_count": 42,
   "metadata": {},
   "outputs": [],
   "source": [
    "the1 = the1(t)\n",
    "the2 = the2(t)\n",
    "phi1 = phi1(t)\n",
    "phi2 = phi2(t)"
   ]
  },
  {
   "cell_type": "markdown",
   "metadata": {},
   "source": [
    "Define derivatives and second derivatives"
   ]
  },
  {
   "cell_type": "code",
   "execution_count": 43,
   "metadata": {},
   "outputs": [],
   "source": [
    "the1_d = smp.diff(the1, t)\n",
    "the2_d = smp.diff(the2, t)\n",
    "phi1_d = smp.diff(phi1, t)\n",
    "phi2_d = smp.diff(phi2, t)\n",
    "the1_dd = smp.diff(the1_d, t)\n",
    "the2_dd = smp.diff(the2_d, t)\n",
    "phi1_dd = smp.diff(phi1_d, t)\n",
    "phi2_dd = smp.diff(phi2_d, t)"
   ]
  },
  {
   "cell_type": "code",
   "execution_count": 44,
   "metadata": {},
   "outputs": [
    {
     "data": {
      "text/latex": [
       "$\\displaystyle \\frac{d^{2}}{d t^{2}} \\phi_{1}{\\left(t \\right)}$"
      ],
      "text/plain": [
       "Derivative(\\phi_1(t), (t, 2))"
      ]
     },
     "execution_count": 44,
     "metadata": {},
     "output_type": "execute_result"
    }
   ],
   "source": [
    "phi1_dd"
   ]
  },
  {
   "cell_type": "markdown",
   "metadata": {},
   "source": [
    "Define $x_1$, $y_1$, $x_2$, and $y_2$ written in terms of the parameters above."
   ]
  },
  {
   "cell_type": "code",
   "execution_count": 45,
   "metadata": {},
   "outputs": [],
   "source": [
    "x1 = L1*smp.sin(the1)*smp.cos(phi1)\n",
    "y1 = L1*smp.sin(the1)*smp.sin(phi1)\n",
    "z1 = -L1*smp.cos(the1)\n",
    "x2 = x1 + L2*smp.sin(the2)*smp.cos(phi2)\n",
    "y2 = y1 + L2*smp.sin(the2)*smp.sin(phi2)\n",
    "z2 = z1 -L2*smp.cos(the2)"
   ]
  },
  {
   "cell_type": "code",
   "execution_count": 46,
   "metadata": {},
   "outputs": [
    {
     "data": {
      "text/latex": [
       "$\\displaystyle L_{1} \\sin{\\left(\\theta_{1}{\\left(t \\right)} \\right)} \\cos{\\left(\\phi_{1}{\\left(t \\right)} \\right)}$"
      ],
      "text/plain": [
       "L1*sin(\\theta_1(t))*cos(\\phi_1(t))"
      ]
     },
     "execution_count": 46,
     "metadata": {},
     "output_type": "execute_result"
    }
   ],
   "source": [
    "x1"
   ]
  },
  {
   "cell_type": "markdown",
   "metadata": {},
   "source": [
    "Create numerical functions"
   ]
  },
  {
   "cell_type": "code",
   "execution_count": 47,
   "metadata": {},
   "outputs": [],
   "source": [
    "x1_f = smp.lambdify((the1, the2, phi1, phi2, L1, L2), x1)\n",
    "y1_f = smp.lambdify((the1, the2, phi1, phi2, L1, L2), y1)\n",
    "z1_f = smp.lambdify((the1, the2, phi1, phi2, L1, L2), z1)\n",
    "x2_f = smp.lambdify((the1, the2, phi1, phi2, L1, L2), x2)\n",
    "y2_f = smp.lambdify((the1, the2, phi1, phi2, L1, L2), y2)\n",
    "z2_f = smp.lambdify((the1, the2, phi1, phi2, L1, L2), z2)"
   ]
  },
  {
   "cell_type": "markdown",
   "metadata": {},
   "source": [
    "Then use these to define kinetic and potential energy for each mass. Obtain the Lagrangian"
   ]
  },
  {
   "cell_type": "code",
   "execution_count": 48,
   "metadata": {},
   "outputs": [],
   "source": [
    "# Kinetic\n",
    "T1 = smp.Rational(1,2) * m1 * (smp.diff(x1, t)**2 + smp.diff(y1, t)**2 + smp.diff(z1, t)**2)\n",
    "T2 = smp.Rational(1,2) * m2 * (smp.diff(x2, t)**2 + smp.diff(y2, t)**2 + smp.diff(z2, t)**2)\n",
    "T = T1+T2\n",
    "# Potential\n",
    "V1 = m1*g*z1\n",
    "V2 = m2*g*z2\n",
    "V = V1 + V2\n",
    "# Lagrangian\n",
    "L = T-V"
   ]
  },
  {
   "cell_type": "markdown",
   "metadata": {},
   "source": [
    "Get Lagrange's equations (4 free parameters implies 4 equations)\n",
    "\n",
    "$$\\frac{\\partial L}{\\partial \\theta_1} - \\frac{d}{dt}\\frac{\\partial L}{\\partial \\dot{\\theta_1}} = 0$$\n",
    "$$\\frac{\\partial L}{\\partial \\theta_2} - \\frac{d}{dt}\\frac{\\partial L}{\\partial \\dot{\\theta_2}} = 0$$\n",
    "$$\\frac{\\partial L}{\\partial \\phi_1} - \\frac{d}{dt}\\frac{\\partial L}{\\partial \\dot{\\phi_1}} = 0$$\n",
    "$$\\frac{\\partial L}{\\partial \\phi_2} - \\frac{d}{dt}\\frac{\\partial L}{\\partial \\dot{\\phi_2}} = 0$$"
   ]
  },
  {
   "cell_type": "code",
   "execution_count": 49,
   "metadata": {},
   "outputs": [
    {
     "data": {
      "text/latex": [
       "$\\displaystyle - L_{1} g m_{1} \\sin{\\left(\\theta_{1}{\\left(t \\right)} \\right)} - L_{1} g m_{2} \\sin{\\left(\\theta_{1}{\\left(t \\right)} \\right)} - L_{1} \\left(L_{1} m_{1} \\frac{d^{2}}{d t^{2}} \\theta_{1}{\\left(t \\right)} + L_{1} m_{2} \\frac{d^{2}}{d t^{2}} \\theta_{1}{\\left(t \\right)} - L_{2} m_{2} \\sin{\\left(\\phi_{1}{\\left(t \\right)} - \\phi_{2}{\\left(t \\right)} \\right)} \\sin{\\left(\\theta_{1}{\\left(t \\right)} \\right)} \\sin{\\left(\\theta_{2}{\\left(t \\right)} \\right)} \\frac{d}{d t} \\phi_{2}{\\left(t \\right)} \\frac{d}{d t} \\theta_{1}{\\left(t \\right)} + L_{2} m_{2} \\sin{\\left(\\phi_{1}{\\left(t \\right)} - \\phi_{2}{\\left(t \\right)} \\right)} \\sin{\\left(\\theta_{2}{\\left(t \\right)} \\right)} \\cos{\\left(\\theta_{1}{\\left(t \\right)} \\right)} \\frac{d^{2}}{d t^{2}} \\phi_{2}{\\left(t \\right)} - L_{2} m_{2} \\sin{\\left(\\phi_{1}{\\left(t \\right)} - \\phi_{2}{\\left(t \\right)} \\right)} \\cos{\\left(\\theta_{1}{\\left(t \\right)} \\right)} \\cos{\\left(\\theta_{2}{\\left(t \\right)} \\right)} \\frac{d}{d t} \\phi_{1}{\\left(t \\right)} \\frac{d}{d t} \\theta_{2}{\\left(t \\right)} + 2 L_{2} m_{2} \\sin{\\left(\\phi_{1}{\\left(t \\right)} - \\phi_{2}{\\left(t \\right)} \\right)} \\cos{\\left(\\theta_{1}{\\left(t \\right)} \\right)} \\cos{\\left(\\theta_{2}{\\left(t \\right)} \\right)} \\frac{d}{d t} \\phi_{2}{\\left(t \\right)} \\frac{d}{d t} \\theta_{2}{\\left(t \\right)} + L_{2} m_{2} \\sin{\\left(\\theta_{1}{\\left(t \\right)} \\right)} \\sin{\\left(\\theta_{2}{\\left(t \\right)} \\right)} \\frac{d^{2}}{d t^{2}} \\theta_{2}{\\left(t \\right)} - L_{2} m_{2} \\sin{\\left(\\theta_{1}{\\left(t \\right)} \\right)} \\cos{\\left(\\phi_{1}{\\left(t \\right)} - \\phi_{2}{\\left(t \\right)} \\right)} \\cos{\\left(\\theta_{2}{\\left(t \\right)} \\right)} \\frac{d}{d t} \\theta_{1}{\\left(t \\right)} \\frac{d}{d t} \\theta_{2}{\\left(t \\right)} + L_{2} m_{2} \\sin{\\left(\\theta_{1}{\\left(t \\right)} \\right)} \\cos{\\left(\\theta_{2}{\\left(t \\right)} \\right)} \\left(\\frac{d}{d t} \\theta_{2}{\\left(t \\right)}\\right)^{2} + L_{2} m_{2} \\sin{\\left(\\theta_{2}{\\left(t \\right)} \\right)} \\cos{\\left(\\phi_{1}{\\left(t \\right)} - \\phi_{2}{\\left(t \\right)} \\right)} \\cos{\\left(\\theta_{1}{\\left(t \\right)} \\right)} \\frac{d}{d t} \\phi_{1}{\\left(t \\right)} \\frac{d}{d t} \\phi_{2}{\\left(t \\right)} - L_{2} m_{2} \\sin{\\left(\\theta_{2}{\\left(t \\right)} \\right)} \\cos{\\left(\\phi_{1}{\\left(t \\right)} - \\phi_{2}{\\left(t \\right)} \\right)} \\cos{\\left(\\theta_{1}{\\left(t \\right)} \\right)} \\left(\\frac{d}{d t} \\phi_{2}{\\left(t \\right)}\\right)^{2} - L_{2} m_{2} \\sin{\\left(\\theta_{2}{\\left(t \\right)} \\right)} \\cos{\\left(\\phi_{1}{\\left(t \\right)} - \\phi_{2}{\\left(t \\right)} \\right)} \\cos{\\left(\\theta_{1}{\\left(t \\right)} \\right)} \\left(\\frac{d}{d t} \\theta_{2}{\\left(t \\right)}\\right)^{2} + L_{2} m_{2} \\sin{\\left(\\theta_{2}{\\left(t \\right)} \\right)} \\cos{\\left(\\theta_{1}{\\left(t \\right)} \\right)} \\frac{d}{d t} \\theta_{1}{\\left(t \\right)} \\frac{d}{d t} \\theta_{2}{\\left(t \\right)} + L_{2} m_{2} \\cos{\\left(\\phi_{1}{\\left(t \\right)} - \\phi_{2}{\\left(t \\right)} \\right)} \\cos{\\left(\\theta_{1}{\\left(t \\right)} \\right)} \\cos{\\left(\\theta_{2}{\\left(t \\right)} \\right)} \\frac{d^{2}}{d t^{2}} \\theta_{2}{\\left(t \\right)}\\right) + \\frac{m_{1} \\left(2 L_{1}^{2} \\sin{\\left(\\theta_{1}{\\left(t \\right)} \\right)} \\cos{\\left(\\theta_{1}{\\left(t \\right)} \\right)} \\left(\\frac{d}{d t} \\theta_{1}{\\left(t \\right)}\\right)^{2} + \\left(- L_{1} \\sin{\\left(\\phi_{1}{\\left(t \\right)} \\right)} \\sin{\\left(\\theta_{1}{\\left(t \\right)} \\right)} \\frac{d}{d t} \\phi_{1}{\\left(t \\right)} + L_{1} \\cos{\\left(\\phi_{1}{\\left(t \\right)} \\right)} \\cos{\\left(\\theta_{1}{\\left(t \\right)} \\right)} \\frac{d}{d t} \\theta_{1}{\\left(t \\right)}\\right) \\left(- 2 L_{1} \\sin{\\left(\\phi_{1}{\\left(t \\right)} \\right)} \\cos{\\left(\\theta_{1}{\\left(t \\right)} \\right)} \\frac{d}{d t} \\phi_{1}{\\left(t \\right)} - 2 L_{1} \\sin{\\left(\\theta_{1}{\\left(t \\right)} \\right)} \\cos{\\left(\\phi_{1}{\\left(t \\right)} \\right)} \\frac{d}{d t} \\theta_{1}{\\left(t \\right)}\\right) + \\left(- 2 L_{1} \\sin{\\left(\\phi_{1}{\\left(t \\right)} \\right)} \\sin{\\left(\\theta_{1}{\\left(t \\right)} \\right)} \\frac{d}{d t} \\theta_{1}{\\left(t \\right)} + 2 L_{1} \\cos{\\left(\\phi_{1}{\\left(t \\right)} \\right)} \\cos{\\left(\\theta_{1}{\\left(t \\right)} \\right)} \\frac{d}{d t} \\phi_{1}{\\left(t \\right)}\\right) \\left(L_{1} \\sin{\\left(\\phi_{1}{\\left(t \\right)} \\right)} \\cos{\\left(\\theta_{1}{\\left(t \\right)} \\right)} \\frac{d}{d t} \\theta_{1}{\\left(t \\right)} + L_{1} \\sin{\\left(\\theta_{1}{\\left(t \\right)} \\right)} \\cos{\\left(\\phi_{1}{\\left(t \\right)} \\right)} \\frac{d}{d t} \\phi_{1}{\\left(t \\right)}\\right)\\right)}{2} + \\frac{m_{2} \\left(2 L_{1} \\left(L_{1} \\sin{\\left(\\theta_{1}{\\left(t \\right)} \\right)} \\frac{d}{d t} \\theta_{1}{\\left(t \\right)} + L_{2} \\sin{\\left(\\theta_{2}{\\left(t \\right)} \\right)} \\frac{d}{d t} \\theta_{2}{\\left(t \\right)}\\right) \\cos{\\left(\\theta_{1}{\\left(t \\right)} \\right)} \\frac{d}{d t} \\theta_{1}{\\left(t \\right)} + \\left(- 2 L_{1} \\sin{\\left(\\phi_{1}{\\left(t \\right)} \\right)} \\sin{\\left(\\theta_{1}{\\left(t \\right)} \\right)} \\frac{d}{d t} \\theta_{1}{\\left(t \\right)} + 2 L_{1} \\cos{\\left(\\phi_{1}{\\left(t \\right)} \\right)} \\cos{\\left(\\theta_{1}{\\left(t \\right)} \\right)} \\frac{d}{d t} \\phi_{1}{\\left(t \\right)}\\right) \\left(L_{1} \\sin{\\left(\\phi_{1}{\\left(t \\right)} \\right)} \\cos{\\left(\\theta_{1}{\\left(t \\right)} \\right)} \\frac{d}{d t} \\theta_{1}{\\left(t \\right)} + L_{1} \\sin{\\left(\\theta_{1}{\\left(t \\right)} \\right)} \\cos{\\left(\\phi_{1}{\\left(t \\right)} \\right)} \\frac{d}{d t} \\phi_{1}{\\left(t \\right)} + L_{2} \\sin{\\left(\\phi_{2}{\\left(t \\right)} \\right)} \\cos{\\left(\\theta_{2}{\\left(t \\right)} \\right)} \\frac{d}{d t} \\theta_{2}{\\left(t \\right)} + L_{2} \\sin{\\left(\\theta_{2}{\\left(t \\right)} \\right)} \\cos{\\left(\\phi_{2}{\\left(t \\right)} \\right)} \\frac{d}{d t} \\phi_{2}{\\left(t \\right)}\\right) + \\left(- 2 L_{1} \\sin{\\left(\\phi_{1}{\\left(t \\right)} \\right)} \\cos{\\left(\\theta_{1}{\\left(t \\right)} \\right)} \\frac{d}{d t} \\phi_{1}{\\left(t \\right)} - 2 L_{1} \\sin{\\left(\\theta_{1}{\\left(t \\right)} \\right)} \\cos{\\left(\\phi_{1}{\\left(t \\right)} \\right)} \\frac{d}{d t} \\theta_{1}{\\left(t \\right)}\\right) \\left(- L_{1} \\sin{\\left(\\phi_{1}{\\left(t \\right)} \\right)} \\sin{\\left(\\theta_{1}{\\left(t \\right)} \\right)} \\frac{d}{d t} \\phi_{1}{\\left(t \\right)} + L_{1} \\cos{\\left(\\phi_{1}{\\left(t \\right)} \\right)} \\cos{\\left(\\theta_{1}{\\left(t \\right)} \\right)} \\frac{d}{d t} \\theta_{1}{\\left(t \\right)} - L_{2} \\sin{\\left(\\phi_{2}{\\left(t \\right)} \\right)} \\sin{\\left(\\theta_{2}{\\left(t \\right)} \\right)} \\frac{d}{d t} \\phi_{2}{\\left(t \\right)} + L_{2} \\cos{\\left(\\phi_{2}{\\left(t \\right)} \\right)} \\cos{\\left(\\theta_{2}{\\left(t \\right)} \\right)} \\frac{d}{d t} \\theta_{2}{\\left(t \\right)}\\right)\\right)}{2}$"
      ],
      "text/plain": [
       "-L1*g*m1*sin(\\theta_1(t)) - L1*g*m2*sin(\\theta_1(t)) - L1*(L1*m1*Derivative(\\theta_1(t), (t, 2)) + L1*m2*Derivative(\\theta_1(t), (t, 2)) - L2*m2*sin(\\phi_1(t) - \\phi_2(t))*sin(\\theta_1(t))*sin(\\theta_2(t))*Derivative(\\phi_2(t), t)*Derivative(\\theta_1(t), t) + L2*m2*sin(\\phi_1(t) - \\phi_2(t))*sin(\\theta_2(t))*cos(\\theta_1(t))*Derivative(\\phi_2(t), (t, 2)) - L2*m2*sin(\\phi_1(t) - \\phi_2(t))*cos(\\theta_1(t))*cos(\\theta_2(t))*Derivative(\\phi_1(t), t)*Derivative(\\theta_2(t), t) + 2*L2*m2*sin(\\phi_1(t) - \\phi_2(t))*cos(\\theta_1(t))*cos(\\theta_2(t))*Derivative(\\phi_2(t), t)*Derivative(\\theta_2(t), t) + L2*m2*sin(\\theta_1(t))*sin(\\theta_2(t))*Derivative(\\theta_2(t), (t, 2)) - L2*m2*sin(\\theta_1(t))*cos(\\phi_1(t) - \\phi_2(t))*cos(\\theta_2(t))*Derivative(\\theta_1(t), t)*Derivative(\\theta_2(t), t) + L2*m2*sin(\\theta_1(t))*cos(\\theta_2(t))*Derivative(\\theta_2(t), t)**2 + L2*m2*sin(\\theta_2(t))*cos(\\phi_1(t) - \\phi_2(t))*cos(\\theta_1(t))*Derivative(\\phi_1(t), t)*Derivative(\\phi_2(t), t) - L2*m2*sin(\\theta_2(t))*cos(\\phi_1(t) - \\phi_2(t))*cos(\\theta_1(t))*Derivative(\\phi_2(t), t)**2 - L2*m2*sin(\\theta_2(t))*cos(\\phi_1(t) - \\phi_2(t))*cos(\\theta_1(t))*Derivative(\\theta_2(t), t)**2 + L2*m2*sin(\\theta_2(t))*cos(\\theta_1(t))*Derivative(\\theta_1(t), t)*Derivative(\\theta_2(t), t) + L2*m2*cos(\\phi_1(t) - \\phi_2(t))*cos(\\theta_1(t))*cos(\\theta_2(t))*Derivative(\\theta_2(t), (t, 2))) + m1*(2*L1**2*sin(\\theta_1(t))*cos(\\theta_1(t))*Derivative(\\theta_1(t), t)**2 + (-L1*sin(\\phi_1(t))*sin(\\theta_1(t))*Derivative(\\phi_1(t), t) + L1*cos(\\phi_1(t))*cos(\\theta_1(t))*Derivative(\\theta_1(t), t))*(-2*L1*sin(\\phi_1(t))*cos(\\theta_1(t))*Derivative(\\phi_1(t), t) - 2*L1*sin(\\theta_1(t))*cos(\\phi_1(t))*Derivative(\\theta_1(t), t)) + (-2*L1*sin(\\phi_1(t))*sin(\\theta_1(t))*Derivative(\\theta_1(t), t) + 2*L1*cos(\\phi_1(t))*cos(\\theta_1(t))*Derivative(\\phi_1(t), t))*(L1*sin(\\phi_1(t))*cos(\\theta_1(t))*Derivative(\\theta_1(t), t) + L1*sin(\\theta_1(t))*cos(\\phi_1(t))*Derivative(\\phi_1(t), t)))/2 + m2*(2*L1*(L1*sin(\\theta_1(t))*Derivative(\\theta_1(t), t) + L2*sin(\\theta_2(t))*Derivative(\\theta_2(t), t))*cos(\\theta_1(t))*Derivative(\\theta_1(t), t) + (-2*L1*sin(\\phi_1(t))*sin(\\theta_1(t))*Derivative(\\theta_1(t), t) + 2*L1*cos(\\phi_1(t))*cos(\\theta_1(t))*Derivative(\\phi_1(t), t))*(L1*sin(\\phi_1(t))*cos(\\theta_1(t))*Derivative(\\theta_1(t), t) + L1*sin(\\theta_1(t))*cos(\\phi_1(t))*Derivative(\\phi_1(t), t) + L2*sin(\\phi_2(t))*cos(\\theta_2(t))*Derivative(\\theta_2(t), t) + L2*sin(\\theta_2(t))*cos(\\phi_2(t))*Derivative(\\phi_2(t), t)) + (-2*L1*sin(\\phi_1(t))*cos(\\theta_1(t))*Derivative(\\phi_1(t), t) - 2*L1*sin(\\theta_1(t))*cos(\\phi_1(t))*Derivative(\\theta_1(t), t))*(-L1*sin(\\phi_1(t))*sin(\\theta_1(t))*Derivative(\\phi_1(t), t) + L1*cos(\\phi_1(t))*cos(\\theta_1(t))*Derivative(\\theta_1(t), t) - L2*sin(\\phi_2(t))*sin(\\theta_2(t))*Derivative(\\phi_2(t), t) + L2*cos(\\phi_2(t))*cos(\\theta_2(t))*Derivative(\\theta_2(t), t)))/2"
      ]
     },
     "execution_count": 49,
     "metadata": {},
     "output_type": "execute_result"
    }
   ],
   "source": [
    "LE1 = smp.diff(L, the1) - smp.diff(smp.diff(L, the1_d), t).simplify()\n",
    "LE2 = smp.diff(L, the2) - smp.diff(smp.diff(L, the2_d), t).simplify()\n",
    "LE3 = smp.diff(L, phi1) - smp.diff(smp.diff(L, phi1_d), t).simplify()\n",
    "LE4 = smp.diff(L, phi2) - smp.diff(smp.diff(L, phi2_d), t).simplify()\n",
    "LE1"
   ]
  },
  {
   "cell_type": "markdown",
   "metadata": {},
   "source": [
    "Solve Lagranges equations (when calling `smp.solve`, it assumes `LE1` and `LE2` and `LE3` and `LE4` are all equal to zero, which is how we've specified them)"
   ]
  },
  {
   "cell_type": "code",
   "execution_count": 50,
   "metadata": {},
   "outputs": [],
   "source": [
    "sols = smp.solve([LE1, LE2, LE3, LE4], (the1_dd, the2_dd, phi1_dd, phi2_dd),\n",
    "                simplify=False, rational=False)"
   ]
  },
  {
   "cell_type": "markdown",
   "metadata": {},
   "source": [
    "Now we have \n",
    "\n",
    "* $\\frac{d^2 \\theta_1}{dt^2} = ...$\n",
    "* $\\frac{d^2 \\theta_2}{dt^2} = ...$\n",
    "* $\\frac{d^2 \\phi_1}{dt^2} = ...$\n",
    "* $\\frac{d^2 \\phi_2}{dt^2} = ...$\n",
    "\n",
    "These are **four 2nd-order ODEs**! In python we can only solve systems of first order ODEs. Any system of second order ODEs can be converted as follows:\n",
    "\n",
    "1. Define $o_1 = d\\theta_1/dt$ and $o_2=d\\theta_2/dt$\n",
    "2. Define $w_1 = d\\phi_1/dt$ and $w_2=d\\phi_2/dt$\n",
    "3. Then $do_1/dt = d^2\\theta_1/dt^2$ and $do_2/dt = d^2\\theta_2/dt^2$\n",
    "4. Then $dw_1/dt = d^2\\phi_1/dt^2$ and $dw_2/dt = d^2\\phi_2/dt^2$\n",
    "\n",
    "Now we get a system of **8 first order ODEs** (as opposed to 4 second order ones)\n",
    "\n",
    "* $d o_1/dt = ...$\n",
    "* $d\\theta_1/dt = o_1$\n",
    "* $d o_2/dt = ...$\n",
    "* $d\\theta_2/dt = o_2$\n",
    "* $d w_1/dt = ...$\n",
    "* $d\\phi_1/dt = w_1$\n",
    "* $d w_2/dt = ...$\n",
    "* $d\\phi_2/dt = w_2$\n",
    "\n",
    "We need to convert the **symbolic** expressions above to numerical functions so we can use them in a numerical python solver. For this we use `smp.lambdify`"
   ]
  },
  {
   "cell_type": "code",
   "execution_count": 51,
   "metadata": {},
   "outputs": [],
   "source": [
    "do1dt_f = smp.lambdify((t,g,m1,m2,L1,L2,the1,the2,the1_d,the2_d,phi1,phi2,phi1_d,phi2_d), sols[the1_dd])\n",
    "do2dt_f = smp.lambdify((t,g,m1,m2,L1,L2,the1,the2,the1_d,the2_d,phi1,phi2,phi1_d,phi2_d), sols[the2_dd])\n",
    "dthe1dt_f = smp.lambdify(the1_d, the1_d)\n",
    "dthe2dt_f = smp.lambdify(the2_d, the2_d)\n",
    "\n",
    "dw1dt_f = smp.lambdify((t,g,m1,m2,L1,L2,the1,the2,the1_d,the2_d,phi1,phi2,phi1_d,phi2_d), sols[phi1_dd])\n",
    "dw2dt_f = smp.lambdify((t,g,m1,m2,L1,L2,the1,the2,the1_d,the2_d,phi1,phi2,phi1_d,phi2_d), sols[phi2_dd])\n",
    "dphi1dt_f = smp.lambdify(phi1_d, phi1_d)\n",
    "dphi2dt_f = smp.lambdify(phi2_d, phi2_d)"
   ]
  },
  {
   "cell_type": "markdown",
   "metadata": {},
   "source": [
    "Now define $\\vec{S} = (\\theta_1, \\theta_2, \\phi_1, \\phi_2, o_1, o_2, w_1, w_2)$. IF we're going to use an ODE solver in python, we need to write a function that takes in $\\vec{S}$ and $t$ and returns $d\\vec{S}/dt$. In other words, we need to define $d\\vec{S}/dt (\\vec{S}, t)$\n",
    "\n",
    "* Our system of ODEs can be fully specified using $d\\vec{S}/dt$ and depends only on $\\vec{S}$ and $t$"
   ]
  },
  {
   "cell_type": "code",
   "execution_count": 52,
   "metadata": {},
   "outputs": [],
   "source": [
    "def dSdt(S, t, g, m1, m2, L1, L2):\n",
    "    the1, the2, phi1, phi2, o1, o2, w1, w2 = S\n",
    "    return [\n",
    "        dthe1dt_f(o1),\n",
    "        dthe2dt_f(o2),\n",
    "        dphi1dt_f(w1),\n",
    "        dphi2dt_f(w2),\n",
    "        do1dt_f(t, g, m1, m2, L1, L2, the1, the2, o1, o2, phi1, phi2, w1, w2),\n",
    "        do2dt_f(t, g, m1, m2, L1, L2, the1, the2, o1, o2, phi1, phi2, w1, w2),\n",
    "        dw1dt_f(t, g, m1, m2, L1, L2, the1, the2, o1, o2, phi1, phi2, w1, w2),\n",
    "        dw2dt_f(t, g, m1, m2, L1, L2, the1, the2, o1, o2, phi1, phi2, w1, w2),\n",
    "    ]"
   ]
  },
  {
   "cell_type": "markdown",
   "metadata": {},
   "source": [
    "Solve the system of ODEs using scipys `odeint` method"
   ]
  },
  {
   "cell_type": "markdown",
   "metadata": {},
   "source": [
    "Good initial conditions\n",
    "* `y0=[np.pi/3, np.pi/3, 0, -np.pi, 3, 4, -3, -4]`"
   ]
  },
  {
   "cell_type": "code",
   "execution_count": 53,
   "metadata": {},
   "outputs": [],
   "source": [
    "t = np.linspace(0, 40, 1001)\n",
    "g = 9.81\n",
    "m1=2\n",
    "m2=1\n",
    "L1 = 3\n",
    "L2 = 2\n",
    "ans = odeint(dSdt, y0=[np.pi/3, np.pi/3, 0, -np.pi, 3, 10, -2, -10], t=t, args=(g,m1,m2,L1,L2))"
   ]
  },
  {
   "cell_type": "markdown",
   "metadata": {},
   "source": [
    "25 times per second (number of data points). This will be important for animating later on."
   ]
  },
  {
   "cell_type": "code",
   "execution_count": 54,
   "metadata": {},
   "outputs": [
    {
     "data": {
      "text/plain": [
       "(1001, 8)"
      ]
     },
     "execution_count": 54,
     "metadata": {},
     "output_type": "execute_result"
    }
   ],
   "source": [
    "ans.shape"
   ]
  },
  {
   "cell_type": "markdown",
   "metadata": {},
   "source": [
    "Can obtain $\\theta_1(t)$ and $\\theta_2(t)$ from the answer"
   ]
  },
  {
   "cell_type": "code",
   "execution_count": 55,
   "metadata": {},
   "outputs": [],
   "source": [
    "the1 = ans.T[0]\n",
    "the2 = ans.T[1]\n",
    "phi1 = ans.T[2]"
   ]
  },
  {
   "cell_type": "markdown",
   "metadata": {},
   "source": [
    "Here's a function that takes in $\\theta_1$ and $\\theta_2$ and returns the location (x,y) of the two masses."
   ]
  },
  {
   "cell_type": "code",
   "execution_count": 56,
   "metadata": {},
   "outputs": [],
   "source": [
    "def get_pos(the1, the2, phi1, phi2, L1, L2):\n",
    "    return (x1_f(the1, the2, phi1, phi2, L1, L2),\n",
    "            y1_f(the1, the2, phi1, phi2, L1, L2),\n",
    "            z1_f(the1, the2, phi1, phi2, L1, L2),\n",
    "            x2_f(the1, the2, phi1, phi2, L1, L2),\n",
    "            y2_f(the1, the2, phi1, phi2, L1, L2),\n",
    "            z2_f(the1, the2, phi1, phi2, L1, L2))\n",
    "\n",
    "x1, y1, z1, x2, y2, z2 = get_pos(ans.T[0], ans.T[1], ans.T[2], ans.T[3], L1, L2)\n",
    "np.save('3Dpen', np.array([x1,y1,z1,x2,y2,z2]))"
   ]
  },
  {
   "cell_type": "markdown",
   "metadata": {},
   "source": [
    "Then we can make an animation"
   ]
  },
  {
   "cell_type": "code",
   "execution_count": 7,
   "metadata": {},
   "outputs": [
    {
     "name": "stdout",
     "output_type": "stream",
     "text": [
      "^C\n"
     ]
    }
   ],
   "source": [
    "!ipython doub_pen_3D.py 3Dpen.npy"
   ]
  }
 ],
 "metadata": {
  "kernelspec": {
   "display_name": "Python 3",
   "language": "python",
   "name": "python3"
  },
  "language_info": {
   "codemirror_mode": {
    "name": "ipython",
    "version": 3
   },
   "file_extension": ".py",
   "mimetype": "text/x-python",
   "name": "python",
   "nbconvert_exporter": "python",
   "pygments_lexer": "ipython3",
   "version": "3.10.11"
  }
 },
 "nbformat": 4,
 "nbformat_minor": 4
}
