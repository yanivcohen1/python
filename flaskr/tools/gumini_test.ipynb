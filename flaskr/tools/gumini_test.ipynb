{
 "cells": [
  {
   "cell_type": "code",
   "execution_count": 2,
   "metadata": {},
   "outputs": [],
   "source": [
    "# https://ai.google.dev/tutorials/python_quickstart\n",
    "import pathlib\n",
    "import textwrap\n",
    "import configparser\n",
    "import google.generativeai as genai\n",
    "# for jupiter\n",
    "from IPython.display import display\n",
    "from IPython.display import Markdown\n",
    "import os"
   ]
  },
  {
   "cell_type": "code",
   "execution_count": 7,
   "metadata": {},
   "outputs": [
    {
     "name": "stdout",
     "output_type": "stream",
     "text": [
      "models/gemini-1.0-pro\n",
      "models/gemini-1.0-pro-001\n",
      "models/gemini-1.0-pro-latest\n",
      "models/gemini-1.0-pro-vision-latest\n",
      "models/gemini-1.5-flash\n",
      "models/gemini-1.5-flash-001\n",
      "models/gemini-1.5-flash-latest\n",
      "models/gemini-1.5-pro\n",
      "models/gemini-1.5-pro-001\n",
      "models/gemini-1.5-pro-latest\n",
      "models/gemini-pro\n",
      "models/gemini-pro-vision\n"
     ]
    }
   ],
   "source": [
    "config = configparser.ConfigParser()\n",
    "secsecss = config.read('flaskr/tools/env_local.ini')\n",
    "# GEMINI_API_KEY = config['DEFAULT']['GEMINI_API_KEY']\n",
    "GEMINI_API_KEY = os.getenv('GEMINI_API_KEY')\n",
    "if GEMINI_API_KEY is None:\n",
    "    print(\"set GEMINI_API_KEY in environment variable\")\n",
    "    raise Exception(\"set GEMINI_API_KEY in environment variable\")\n",
    "\n",
    "def to_markdown(text):\n",
    "    text = text.replace('•', '  *')\n",
    "    return Markdown(textwrap.indent(text, '> ', predicate=lambda _: True))\n",
    "\n",
    "genai.configure(api_key=GEMINI_API_KEY)\n",
    "\n",
    "for m in genai.list_models():\n",
    "    if 'generateContent' in m.supported_generation_methods:\n",
    "        print(m.name)\n",
    "\n",
    "model = genai.GenerativeModel('gemini-pro')\n",
    "\n",
    "def sendServer(msg):\n",
    "  response = model.generate_content(msg + \n",
    "                                    \", if code in response add the code in markdown like this ```{program_language_name}\")\n",
    "  return to_markdown(response.text)"
   ]
  },
  {
   "cell_type": "code",
   "execution_count": 6,
   "metadata": {},
   "outputs": [
    {
     "data": {
      "text/markdown": [
       "> The meaning of life is a deeply personal and subjective question that has been pondered by philosophers, theologians, and individuals throughout history. There is no one definitive answer that applies to everyone, as the meaning of life may vary depending on individual beliefs, values, experiences, and circumstances. \n",
       "> \n",
       "> Some common perspectives on the meaning of life include: \n",
       "> \n",
       "> 1. **Purpose-driven life:** This view suggests that life has an inherent purpose, predetermined by a higher power or innate within individuals. Purpose may be derived from religious beliefs, personal goals, or societal expectations. \n",
       "> \n",
       "> 2. **Personal growth and fulfillment:** This perspective focuses on the individual's journey of self-discovery, learning, and becoming the best version of themselves. The meaning of life is found in the pursuit of knowledge, experiences, and personal development. \n",
       "> \n",
       "> 3. **Contribution to others:** Many people find meaning in their lives through contributing to the well-being of others. This can take various forms, such as helping family and friends, volunteering, supporting charitable causes, or leaving a positive impact on society. \n",
       "> \n",
       "> 4. **Moment-to-moment existence:** Some individuals believe that the meaning of life lies in the present moment. They emphasize the importance of mindfulness, appreciating the beauty and simplicity of life, and living fully in the here and now. \n",
       "> \n",
       "> 5. **No inherent meaning:** Existentialist philosophers argue that life has no inherent meaning and that individuals are responsible for creating their own meaning through their choices, actions, and relationships. \n",
       "> \n",
       "> Ultimately, the meaning of life is something that each individual must determine for themselves. There is no right or wrong answer, and the search for meaning is a lifelong journey. By reflecting on personal values, beliefs, and aspirations, individuals can strive to find purpose, fulfillment, and meaning in their own lives."
      ],
      "text/plain": [
       "<IPython.core.display.Markdown object>"
      ]
     },
     "execution_count": 6,
     "metadata": {},
     "output_type": "execute_result"
    }
   ],
   "source": [
    "response = model.generate_content(\"What is the meaning of life?\")\n",
    "to_markdown(response.text)"
   ]
  },
  {
   "cell_type": "code",
   "execution_count": 12,
   "metadata": {},
   "outputs": [
    {
     "data": {
      "text/markdown": [
       "> ```python\n",
       "> import numpy as np\n",
       "> import matplotlib.pyplot as plt\n",
       "> \n",
       "> # Define the system of differential equations\n",
       "> def f(t, y):\n",
       ">     h, i = y\n",
       ">     dhdt = i + 4*h + 1\n",
       ">     dindt = 2*i + h + 1\n",
       ">     return [dhdt, dindt]\n",
       "> \n",
       "> # Solve the system of differential equations\n",
       "> t_span = np.linspace(0, 10, 1000)\n",
       "> y0 = [0, 0]\n",
       "> sol = solve_ivp(f, t_span, y0)\n",
       "> \n",
       "> # Plot the results\n",
       "> plt.plot(sol.t, sol.y[0], label='h(t)')\n",
       "> plt.plot(sol.t, sol.y[1], label='i(t)')\n",
       "> plt.legend()\n",
       "> plt.show()\n",
       "> ```"
      ],
      "text/plain": [
       "<IPython.core.display.Markdown object>"
      ]
     },
     "execution_count": 12,
     "metadata": {},
     "output_type": "execute_result"
    }
   ],
   "source": [
    "sendServer('''h'(t) = i(t) + 4h(t) +1\n",
    "i'(t) = 2i(t) + h(t) +1\n",
    "solve this eq's in python and plot the result of i and h''')"
   ]
  },
  {
   "cell_type": "code",
   "execution_count": 10,
   "metadata": {},
   "outputs": [
    {
     "data": {
      "text/markdown": [
       "> **Philosophical Responses:**\n",
       "> \n",
       "> * To find purpose and fulfillment (existentialism)\n",
       "> * To experience and create meaningful connections (humanism)\n",
       "> * To contribute to something larger than oneself (altruism)\n",
       "> * To live in harmony with nature (biocentrism)\n",
       "> * To seek enlightenment or liberation (spiritualism)\n",
       "> * To simply exist without a specific purpose (absurdism)\n",
       "> \n",
       "> **Scientific Responses:**\n",
       "> \n",
       "> * To replicate DNA and pass on genetic information (biology)\n",
       "> * To maximize reproductive success (evolutionary psychology)\n",
       "> * To survive and perpetuate one's lineage (sociobiology)\n",
       "> \n",
       "> **Religious Responses:**\n",
       "> \n",
       "> * To fulfill a divine purpose (theism)\n",
       "> * To prepare for the afterlife (Christianity, Islam)\n",
       "> * To achieve enlightenment or moksha (Buddhism, Hinduism)\n",
       "> \n",
       "> **Other Responses:**\n",
       "> \n",
       "> * To explore and experience the world (hedonism)\n",
       "> * To pursue knowledge and understanding (intellectualism)\n",
       "> * To make art and express oneself creatively (aesthetics)\n",
       "> * To find joy and happiness in the present moment (eudaimonia)\n",
       "> * To live according to one's own values and beliefs (authenticity)\n",
       "> \n",
       "> ```python\n",
       "> # No code provided\n",
       "> ```"
      ],
      "text/plain": [
       "<IPython.core.display.Markdown object>"
      ]
     },
     "execution_count": 10,
     "metadata": {},
     "output_type": "execute_result"
    }
   ],
   "source": [
    "sendServer(\"What is the meaning of life?\")"
   ]
  }
 ],
 "metadata": {
  "kernelspec": {
   "display_name": "venv",
   "language": "python",
   "name": "python3"
  },
  "language_info": {
   "codemirror_mode": {
    "name": "ipython",
    "version": 3
   },
   "file_extension": ".py",
   "mimetype": "text/x-python",
   "name": "python",
   "nbconvert_exporter": "python",
   "pygments_lexer": "ipython3",
   "version": "3.10.11"
  }
 },
 "nbformat": 4,
 "nbformat_minor": 2
}
