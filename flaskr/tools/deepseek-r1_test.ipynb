{
 "cells": [
  {
   "cell_type": "code",
   "execution_count": 4,
   "metadata": {},
   "outputs": [],
   "source": [
    "# first start the server and selecting module:\n",
    "# cd C:\\Users\\yaniv\\.cache\\lm-studio\\bin\n",
    "# lms server start --port 1234\n",
    "# select the module \"LM Studio Community/Meta-Llama-3-8B-Instruct-GGUF\":\n",
    "# or by cmd: cd D:\\Temp\\ml_studio\\TS\\load_model; yarn start \n",
    "# pip install OpenAI\n",
    "from openai import OpenAI\n",
    "from IPython.display import Markdown\n",
    "import textwrap\n",
    "\n",
    "# install moduls path: C:\\Users\\yaniv\\.cache\\lm-studio\\models\\LM Studio Community\\\n",
    "# start LM Studio url: https://lmstudio.ai/\n",
    "# select module\n",
    "# start the server\n",
    "# open url: http://localhost:1234/v1/models\n",
    "# see server log in real time on respones\n",
    "# Point to the local server\n",
    "client = OpenAI(base_url=\"http://localhost:1234/v1\", api_key=\"lm-studio\")\n",
    "code_highlight = \", the code in response will be like this ```{program_language_name}\"\n",
    "\n",
    "def to_markdown(text):\n",
    "    text = text.replace('•', '  *')\n",
    "    return Markdown(textwrap.indent(text, '> ', predicate=lambda _: True))\n",
    "\n",
    "def sendServer(my_msg, code_highlights = False):\n",
    "  completion = client.chat.completions.create(\n",
    "    model=\"deepseek-r1-distill-qwen-7b\",\n",
    "    messages=[\n",
    "        {\"role\": \"system\", \"content\": \"if code is in response add the code like this ```{program_language_name}\"},\n",
    "        {\"role\": \"user\", \"content\": my_msg if not code_highlights else my_msg + code_highlight},\n",
    "    ],\n",
    "    temperature=0.7,\n",
    "    max_tokens=-1,\n",
    "    stream=False\n",
    "  )\n",
    "  return to_markdown(completion.choices[0].message.content)\n"
   ]
  },
  {
   "cell_type": "code",
   "execution_count": 5,
   "metadata": {},
   "outputs": [
    {
     "data": {
      "text/markdown": [
       "> <think>\n",
       "> Okay, I need to write Python code that gets URL data. Let me think about how to approach this.\n",
       "> \n",
       "> First, I'll use the requests library because it's standard for HTTP requests. I should make a GET request to the given URL. Then, I'll check if the response is successful by looking at the status code.\n",
       "> \n",
       "> Next, I need to handle exceptions in case something goes wrong, like network errors or invalid URLs. Using try-except blocks around the request and response handling makes sense here.\n",
       "> \n",
       "> After fetching the data from the URL, I should parse it using BeautifulSoup. This will allow me to extract specific HTML elements if needed.\n",
       "> \n",
       "> I'll also add some error messages for different cases so that the user knows what went wrong if something isn't right.\n",
       "> \n",
       "> Putting it all together, the script will import necessary modules, define functions to handle the request and parsing, use try-except blocks for exception handling, and finally parse the data using BeautifulSoup.\n",
       "> \n",
       "> I should make sure to replace placeholders like 'URL' with the actual URL provided by the user. Also, I'll limit the response content to 100 words as requested.\n",
       "> \n",
       "> Finally, I'll test the code to ensure it works correctly for various scenarios, including successful requests, invalid URLs, and network errors.\n",
       "> </think>\n",
       "> \n",
       "> ```python\n",
       "> import requests\n",
       "> from bs4 import BeautifulSoup\n",
       "> \n",
       "> def get_url_data(url):\n",
       ">     try:\n",
       ">         response = requests.get(url)\n",
       ">         if response.status_code == 200:\n",
       ">             data = response.text\n",
       ">             # Process the data here (e.g., parse HTML with BeautifulSoup)\n",
       ">             soup = BeautifulSoup(data, 'html.parser')\n",
       ">             return str(soup.prettify())\n",
       ">         else:\n",
       ">             raise ValueError(f\"URL {url} returned status code {response.status_code}\")\n",
       ">     except requests.exceptions.RequestException as e:\n",
       ">         raise ValueError(f\"Failed to fetch URL {url}: {str(e)}\")\n",
       ">     except Exception as e:\n",
       ">         raise ValueError(f\"Error processing response from URL {url}: {str(e)}\")\n",
       "> \n",
       "> # Example usage\n",
       "> url = \"http://example.com\"  # Replace with your actual URL\n",
       "> try:\n",
       ">     result = get_url_data(url)\n",
       ">     print(\"URL data fetched successfully:\", result)\n",
       "> except ValueError as e:\n",
       ">     print(\"An error occurred:\", str(e))\n",
       "> ```\n",
       "> \n",
       "> This code includes:\n",
       "> \n",
       "> 1. **Request Handling**: Uses the `requests` library to make HTTP GET requests.\n",
       "> 2. **Error Checking**: Verifies if the response is successful (HTTP status code 200).\n",
       "> 3. **Exception Handling**: Includes try-except blocks for both request and response processing exceptions.\n",
       "> 4. **Data Parsing**: Uses BeautifulSoup to parse and display the HTML content of the URL.\n",
       "> 5. **Error Messages**: Provides clear error messages for different types of issues.\n",
       "> \n",
       "> The function `get_url_data` returns the parsed data or raises an appropriate error if something goes wrong."
      ],
      "text/plain": [
       "<IPython.core.display.Markdown object>"
      ]
     },
     "execution_count": 5,
     "metadata": {},
     "output_type": "execute_result"
    }
   ],
   "source": [
    "sendServer('''write in max 100 words python code that get url data''')"
   ]
  },
  {
   "cell_type": "code",
   "execution_count": 47,
   "metadata": {},
   "outputs": [
    {
     "data": {
      "text/markdown": [
       "> **The Meaning of Life:**\n",
       "> \n",
       "> 1. **Purpose**: To fulfill one's potential and contribute to society.\n",
       "> 2. **Happiness**: To find joy, contentment, and fulfillment in life.\n",
       "> 3. **Relationships**: To build meaningful connections with others and experience love and belonging.\n",
       "> 4. **Personal Growth**: To learn, adapt, and evolve as a person.\n",
       "> 5. **Legacy**: To leave a positive impact on the world and be remembered after one's passing.\n",
       "> 6. **Spirituality**: To connect with something greater than oneself, finding meaning and purpose in the universe.\n",
       "> 7. **Self-actualization**: To realize one's full potential and become the best version of themselves.\n",
       "> \n",
       "> These points highlight various aspects that contribute to a fulfilling life."
      ],
      "text/plain": [
       "<IPython.core.display.Markdown object>"
      ]
     },
     "execution_count": 47,
     "metadata": {},
     "output_type": "execute_result"
    }
   ],
   "source": [
    "sendServer('''write in max 100 words What is the meaning of life the answer need to be in points ?''')"
   ]
  },
  {
   "cell_type": "code",
   "execution_count": 53,
   "metadata": {},
   "outputs": [
    {
     "data": {
      "text/markdown": [
       "> Here is a Python code snippet that converts JSON to a dictionary:\n",
       "> \n",
       "> ```python\n",
       "> import json\n",
       "> \n",
       "> json_string = '{\"name\": \"John\", \"age\": 30, \"city\": \"New York\"}'\n",
       "> json_data = json.loads(json_string)\n",
       "> \n",
       "> print(json_data)\n",
       "> ```\n",
       "> \n",
       "> This code uses the `json` module's `loads()` function to parse the JSON string into a Python dictionary. The resulting dictionary is then printed to the console."
      ],
      "text/plain": [
       "<IPython.core.display.Markdown object>"
      ]
     },
     "execution_count": 53,
     "metadata": {},
     "output_type": "execute_result"
    }
   ],
   "source": [
    "# how to force code color if defalt not working \n",
    "sendServer('''write in max 100 words python code how to convert json to dict''', True)"
   ]
  },
  {
   "cell_type": "code",
   "execution_count": 15,
   "metadata": {},
   "outputs": [
    {
     "data": {
      "text/markdown": [
       "> Here is a Python code snippet using `requests` library to fetch URL data:\n",
       "> ```\n",
       "> import requests\n",
       "> \n",
       "> url = \"https://example.com\"  # replace with your desired URL\n",
       "> response = requests.get(url)\n",
       "> \n",
       "> if response.status_code == 200:\n",
       ">     print(\"URL Data:\")\n",
       ">     print(response.text)\n",
       "> else:\n",
       ">     print(f\"Failed to retrieve data from {url} - Status Code: {response.status_code}\")\n",
       "> ```\n",
       "> This code sends a GET request to the specified URL and prints the response text if the status code is 200 (OK). If not, it prints an error message with the status code."
      ],
      "text/plain": [
       "<IPython.core.display.Markdown object>"
      ]
     },
     "execution_count": 15,
     "metadata": {},
     "output_type": "execute_result"
    }
   ],
   "source": [
    "# test\n",
    "sendServer('''write in max 100 words python code that get url data''')"
   ]
  }
 ],
 "metadata": {
  "kernelspec": {
   "display_name": "venv",
   "language": "python",
   "name": "python3"
  },
  "language_info": {
   "codemirror_mode": {
    "name": "ipython",
    "version": 3
   },
   "file_extension": ".py",
   "mimetype": "text/x-python",
   "name": "python",
   "nbconvert_exporter": "python",
   "pygments_lexer": "ipython3",
   "version": "3.10.11"
  }
 },
 "nbformat": 4,
 "nbformat_minor": 2
}
