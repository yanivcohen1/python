{
 "cells": [
  {
   "cell_type": "code",
   "execution_count": 2,
   "metadata": {},
   "outputs": [
    {
     "name": "stderr",
     "output_type": "stream",
     "text": [
      "C:\\Users\\yaniv\\AppData\\Local\\Temp\\ipykernel_66856\\3746179066.py:37: ODEintWarning:\n",
      "\n",
      "Excess work done on this call (perhaps wrong Dfun type). Run with full_output = 1 to get quantitative information.\n",
      "\n"
     ]
    },
    {
     "data": {
      "application/vnd.jupyter.widget-view+json": {
       "model_id": "374693698e80483cacb9d217d04ec007",
       "version_major": 2,
       "version_minor": 0
      },
      "text/plain": [
       "VBox(children=(HBox(children=(FloatSlider(value=1.0, description='Kp', max=5.0), FloatSlider(value=0.1, descri…"
      ]
     },
     "execution_count": 2,
     "metadata": {},
     "output_type": "execute_result"
    }
   ],
   "source": [
    "# https://ipywidgets.readthedocs.io/en/stable/examples/Widget%20List.html\n",
    "# https://plotly.com/python/\n",
    "import numpy as np\n",
    "from scipy.integrate import odeint\n",
    "import plotly.graph_objs as go\n",
    "from ipywidgets import interactive, HBox, VBox, FloatSlider\n",
    "\n",
    "# Initial conditions\n",
    "setpoint = 1  # Desired setpoint\n",
    "initial_y = 0  # Initial value of y\n",
    "previous_error = 0\n",
    "integral = 0\n",
    "dt = 0.01  # Time step\n",
    "\n",
    "# Define the system's model\n",
    "def model(y, t, Kp, Ki, Kd):\n",
    "    # Example model: dy/dt = -y + Kp*u\n",
    "    u = pid_controller(y, t, Kp, Ki, Kd)\n",
    "    dydt = -y + Kp*u\n",
    "    return dydt\n",
    "\n",
    "# PID controller function\n",
    "def pid_controller(y, t, Kp, Ki, Kd):\n",
    "    global integral, previous_error\n",
    "    # Simple PID control logic (Pseudocode)\n",
    "    error = setpoint - y\n",
    "    integral = integral + error * dt\n",
    "    derivative = (error - previous_error) / dt\n",
    "    output = Kp*error + Ki*integral + Kd*derivative\n",
    "    previous_error = error\n",
    "    return output\n",
    "\n",
    "# Time vector\n",
    "t = np.linspace(0, 10, num=1000)\n",
    "\n",
    "# Solve ODE\n",
    "y = odeint(model, initial_y, t, args=(1.0, 0.1, 0.05))\n",
    "\n",
    "# Create the plot\n",
    "fig = go.FigureWidget()\n",
    "fig.add_scatter(x=t, y=y.ravel(), mode='lines', name='Output')\n",
    "fig.add_scatter(x=t, y=[setpoint]*len(t), mode='lines', name='Setpoint')\n",
    "# fig.layout.title = 'PID Control System Simulation'\n",
    "# fig.layout.xaxis.title = 'Time'\n",
    "# fig.layout.yaxis.title = 'Output'\n",
    "fig.layout = go.Layout( title='PID Control System Simulation',\n",
    "                        xaxis = dict(title='Time'),\n",
    "                        yaxis = dict(title='Output'))\n",
    "\n",
    "# Interactive function to update the plot\n",
    "def update(Kp=1.0, Ki=0.1, Kd=0.05):\n",
    "    y = odeint(model, initial_y, t, args=(Kp, Ki, Kd))\n",
    "    fig.data[0].y = y.ravel()\n",
    "\n",
    "# Create interactive widgets\n",
    "Kp_slider = FloatSlider(value=1.0, min=0, max=5, step=0.1, description='Kp') # floating point slider\n",
    "Ki_slider = FloatSlider(value=0.1, min=0, max=5, step=0.01, description='Ki')\n",
    "Kd_slider = FloatSlider(value=0.05, min=0, max=5, step=0.01, description='Kd')\n",
    "\n",
    "# Use interactive to create a UI element for the sliders\n",
    "interactive_plot = interactive(update, Kp=Kp_slider, Ki=Ki_slider, Kd=Kd_slider)\n",
    "\n",
    "# Display the interactive sliders and output\n",
    "hb = HBox([Kp_slider, Ki_slider, Kd_slider]) # all silers in horizental\n",
    "VBox([hb, fig]) # vertical: sliders in first line and fig in secend line\n"
   ]
  },
  {
   "cell_type": "markdown",
   "metadata": {},
   "source": [
    "## For more wigets: \n",
    "https://ipywidgets.readthedocs.io/en/stable/examples/Widget%20List.html\n",
    "\n",
    "## For more plots:\n",
    "https://plotly.com/python/"
   ]
  },
  {
   "cell_type": "markdown",
   "metadata": {},
   "source": []
  }
 ],
 "metadata": {
  "kernelspec": {
   "display_name": "venv",
   "language": "python",
   "name": "python3"
  },
  "language_info": {
   "codemirror_mode": {
    "name": "ipython",
    "version": 3
   },
   "file_extension": ".py",
   "mimetype": "text/x-python",
   "name": "python",
   "nbconvert_exporter": "python",
   "pygments_lexer": "ipython3",
   "version": "3.10.11"
  }
 },
 "nbformat": 4,
 "nbformat_minor": 2
}
