{
 "cells": [
  {
   "cell_type": "code",
   "execution_count": 1,
   "metadata": {},
   "outputs": [
    {
     "data": {
      "application/vnd.jupyter.widget-view+json": {
       "model_id": "5049ae3e83bf4a8d8b34178b47b6d23f",
       "version_major": 2,
       "version_minor": 0
      },
      "text/plain": [
       "VBox(children=(HBox(children=(IntSlider(value=3, description='X Data:', max=10, min=1), IntSlider(value=6, des…"
      ]
     },
     "metadata": {},
     "output_type": "display_data"
    }
   ],
   "source": [
    "import plotly.graph_objects as go\n",
    "from plotly.subplots import make_subplots\n",
    "import ipywidgets as widgets\n",
    "from ipywidgets import interactive, HBox, VBox\n",
    "\n",
    "# Create subplots\n",
    "fig = make_subplots(rows=2, cols=2)\n",
    "\n",
    "# Add initial traces for the first subplot\n",
    "fig.add_trace(go.Scatter(x=[1, 2, 3], y=[4, 5, 6], name='Line 1'), row=1, col=1)\n",
    "fig.add_trace(go.Scatter(x=[1, 2, 3], y=[7, 8, 9], name='Line 2'), row=1, col=1)\n",
    "\n",
    "# Add other traces\n",
    "fig.add_trace(go.Bar(x=[1, 2, 3], y=[10, 11, 12]), row=1, col=2)\n",
    "fig.add_trace(go.Scatter(x=[1, 2, 3], y=[20, 21, 22]), row=2, col=1)\n",
    "fig.add_trace(go.Bar(x=[1, 2, 3], y=[30, 31, 32]), row=2, col=2)\n",
    "\n",
    "# Convert to FigureWidget\n",
    "fig_widget = go.FigureWidget(fig)\n",
    "\n",
    "# Define a function that updates the data for multiple lines\n",
    "def update_lines(x_data, y_data_line1, y_data_line2):\n",
    "    with fig_widget.batch_update():\n",
    "        fig_widget.data[0].x = x_data\n",
    "        fig_widget.data[0].y = y_data_line1\n",
    "        fig_widget.data[1].x = x_data\n",
    "        fig_widget.data[1].y = y_data_line2\n",
    "\n",
    "# Create interactive widgets\n",
    "x_data_widget = widgets.IntSlider(value=3, min=1, max=10, step=1, description='X Data:')\n",
    "y_data_line1_widget = widgets.IntSlider(value=6, min=1, max=20, step=1, description='Y Data Line 1:')\n",
    "y_data_line2_widget = widgets.IntSlider(value=9, min=1, max=20, step=1, description='Y Data Line 2:')\n",
    "\n",
    "# Create a function to bind the widgets with the update_lines function\n",
    "def interactive_plot(x_data, y_data_line1, y_data_line2):\n",
    "    update_lines([1, 2, x_data], [4, 5, y_data_line1], [7, 8, y_data_line2])\n",
    "\n",
    "# Bind the widgets and the function\n",
    "interactive_widget = interactive(interactive_plot, x_data=x_data_widget, y_data_line1=y_data_line1_widget, y_data_line2=y_data_line2_widget)\n",
    "\n",
    "# Display the interactive widgets and the FigureWidget\n",
    "display(VBox([HBox([x_data_widget, y_data_line1_widget, y_data_line2_widget]), fig_widget]))\n"
   ]
  }
 ],
 "metadata": {
  "kernelspec": {
   "display_name": "venv",
   "language": "python",
   "name": "python3"
  },
  "language_info": {
   "codemirror_mode": {
    "name": "ipython",
    "version": 3
   },
   "file_extension": ".py",
   "mimetype": "text/x-python",
   "name": "python",
   "nbconvert_exporter": "python",
   "pygments_lexer": "ipython3",
   "version": "3.10.11"
  }
 },
 "nbformat": 4,
 "nbformat_minor": 2
}
