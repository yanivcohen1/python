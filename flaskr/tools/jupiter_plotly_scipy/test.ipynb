{
 "cells": [
  {
   "cell_type": "code",
   "execution_count": 1,
   "metadata": {},
   "outputs": [
    {
     "name": "stdout",
     "output_type": "stream",
     "text": [
      "3.10.11\n"
     ]
    }
   ],
   "source": [
    "from platform import python_version\n",
    "print(python_version())"
   ]
  },
  {
   "cell_type": "code",
   "execution_count": 2,
   "metadata": {},
   "outputs": [
    {
     "data": {
      "text/plain": [
       "'6.29.0'"
      ]
     },
     "execution_count": 2,
     "metadata": {},
     "output_type": "execute_result"
    }
   ],
   "source": [
    "import ipykernel\n",
    "ipykernel.__version__"
   ]
  },
  {
   "cell_type": "code",
   "execution_count": 3,
   "metadata": {},
   "outputs": [
    {
     "data": {
      "text/plain": [
       "'8.20.0'"
      ]
     },
     "execution_count": 3,
     "metadata": {},
     "output_type": "execute_result"
    }
   ],
   "source": [
    "import IPython\n",
    "IPython.__version__"
   ]
  },
  {
   "cell_type": "code",
   "execution_count": 4,
   "metadata": {},
   "outputs": [
    {
     "data": {
      "text/plain": [
       "'Windows'"
      ]
     },
     "execution_count": 4,
     "metadata": {},
     "output_type": "execute_result"
    }
   ],
   "source": [
    "import platform\n",
    "platform.system()"
   ]
  },
  {
   "cell_type": "code",
   "execution_count": 1,
   "metadata": {},
   "outputs": [
    {
     "name": "stdout",
     "output_type": "stream",
     "text": [
      " Volume in drive C is Windows\n",
      " Volume Serial Number is 32B6-FBE8\n",
      "\n",
      " Directory of c:\\Users\\yaniv\\OneDrive\\python-flask\\flaskr\\tools\\jupiter_plotly_scipy\n",
      "\n",
      "15-Jul-24  06:23 AM    <DIR>          .\n",
      "18-Jul-24  02:37 PM    <DIR>          ..\n",
      "22-Apr-24  07:03 PM            69,557 3d_animation.ipynb\n",
      "27-Apr-24  03:18 AM             5,566 control.ipynb\n",
      "24-Apr-24  10:08 AM       137,887,872 CT_scan.npy\n",
      "05-May-24  11:47 PM    <DIR>          data\n",
      "24-Apr-24  10:39 AM           141,782 HU.PNG\n",
      "24-Apr-24  10:25 AM        59,470,605 image_processing.html\n",
      "27-Apr-24  11:28 PM           502,266 image_processing.ipynb\n",
      "07-Jun-24  02:48 PM    <DIR>          images\n",
      "22-Mar-24  09:38 AM         3,728,732 ipywidgets_intro.ipynb\n",
      "23-Mar-24  01:00 PM         3,692,033 ipywidgets_plotly.ipynb\n",
      "28-Apr-24  08:28 PM             2,227 ipywidgets_plotly_interact.ipynb\n",
      "23-Apr-24  08:30 PM           117,908 math2.ipynb\n",
      "31-Mar-24  01:44 PM            40,592 MSFT.csv\n",
      "17-Jun-24  07:01 PM        16,000,854 Numpy_Pandas_plotly.ipynb\n",
      "17-Jul-24  03:12 AM    <DIR>          physics\n",
      "15-Jul-24  06:23 AM             4,682 pid_plotly_widget.ipynb\n",
      "14-Jul-24  12:29 PM         3,690,004 pid_widget.ipynb\n",
      "23-Mar-24  12:10 PM            52,448 plot_legend_picking.ipynb\n",
      "27-Apr-24  07:55 PM            53,622 plotly_2d_animation.ipynb\n",
      "06-May-24  10:26 AM        51,330,443 plotly_3d_animation.ipynb\n",
      "24-Mar-24  03:03 PM             3,214 plotly_subplots.ipynb\n",
      "24-Apr-24  07:28 AM           100,835 sympy1.ipynb\n",
      "15-Jul-24  06:22 AM             1,753 test.ipynb\n",
      "14-Apr-24  09:36 AM           695,032 tradingBot.ipynb\n",
      "30-Mar-24  06:27 PM           108,719 Wilshire-5000-Stocks.xlsx\n",
      "              22 File(s)    277,700,746 bytes\n",
      "               5 Dir(s)  266,274,983,936 bytes free\n"
     ]
    }
   ],
   "source": [
    "# %command_line arguments\n",
    "%ls ."
   ]
  },
  {
   "cell_type": "code",
   "execution_count": 2,
   "metadata": {},
   "outputs": [
    {
     "name": "stdout",
     "output_type": "stream",
     "text": [
      "3d_animation.ipynb\n",
      "CT_scan.npy\n",
      "HU.PNG\n",
      "MSFT.csv\n",
      "Numpy_Pandas_plotly.ipynb\n",
      "Wilshire-5000-Stocks.xlsx\n",
      "control.ipynb\n",
      "data\n",
      "image_processing.html\n",
      "image_processing.ipynb\n",
      "images\n",
      "ipywidgets_intro.ipynb\n",
      "ipywidgets_plotly.ipynb\n",
      "ipywidgets_plotly_interact.ipynb\n",
      "math2.ipynb\n",
      "physics\n",
      "pid_plotly_widget.ipynb\n",
      "pid_widget.ipynb\n",
      "plot_legend_picking.ipynb\n",
      "plotly_2d_animation.ipynb\n",
      "plotly_3d_animation.ipynb\n",
      "plotly_subplots.ipynb\n",
      "sympy1.ipynb\n",
      "test.ipynb\n",
      "tradingBot.ipynb\n"
     ]
    }
   ],
   "source": [
    "%%bash\n",
    "ls ."
   ]
  }
 ],
 "metadata": {
  "kernelspec": {
   "display_name": "venv",
   "language": "python",
   "name": "python3"
  },
  "language_info": {
   "codemirror_mode": {
    "name": "ipython",
    "version": 3
   },
   "file_extension": ".py",
   "mimetype": "text/x-python",
   "name": "python",
   "nbconvert_exporter": "python",
   "pygments_lexer": "ipython3",
   "version": "3.10.11"
  }
 },
 "nbformat": 4,
 "nbformat_minor": 2
}
