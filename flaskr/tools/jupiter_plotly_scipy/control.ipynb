{
 "cells": [
  {
   "cell_type": "code",
   "execution_count": 1,
   "metadata": {},
   "outputs": [
    {
     "data": {
      "application/vnd.jupyter.widget-view+json": {
       "model_id": "5c71f6dc1b2f4f78a3ed9cde310da1ca",
       "version_major": 2,
       "version_minor": 0
      },
      "text/plain": [
       "interactive(children=(FloatSlider(value=2.0, description='Kc', max=400.0, min=-2.0, step=1.0), Output()), _dom…"
      ]
     },
     "metadata": {},
     "output_type": "display_data"
    },
    {
     "name": "stdout",
     "output_type": "stream",
     "text": [
      "P-only Simulator with and without OP Limits: Adjust Kc\n"
     ]
    }
   ],
   "source": [
    "import numpy as np\n",
    "import matplotlib.pyplot as plt\n",
    "from scipy.integrate import odeint\n",
    "import ipywidgets as wg\n",
    "from IPython.display import display\n",
    "\n",
    "n = 601 # time points to plot\n",
    "tf = 600.0 # final time\n",
    "\n",
    "# TCLab Second-Order\n",
    "Kp = 0.8473\n",
    "taus = 51.08\n",
    "zeta = 1.581\n",
    "thetap = 0.0\n",
    "\n",
    "def process(z,t,u):\n",
    "    x,y = z\n",
    "    dxdt = (1.0/(taus**2)) * (-2.0*zeta*taus*x-(y-23.0) + Kp * u)\n",
    "    dydt = x\n",
    "    return [dxdt,dydt]\n",
    "\n",
    "def pidPlot(Kc):\n",
    "    t = np.linspace(0,tf,n) # create time vector\n",
    "    P = np.zeros(n)         # initialize proportional term\n",
    "    e = np.zeros(n)         # initialize error\n",
    "    OP = np.zeros(n)        # initialize controller output\n",
    "    PV = np.ones(n)*23.0    # initialize process variable\n",
    "    SP = np.ones(n)*23.0    # initialize setpoint\n",
    "    SP[10:] = 60.0          # step up\n",
    "    z0 = [0,23.0]           # initial condition\n",
    "    # loop through all time steps\n",
    "    for i in range(1,n):\n",
    "        # simulate process for one time step\n",
    "        ts = [t[i-1],t[i]]         # time interval\n",
    "        z = odeint(process,z0,ts,args=(OP[max(0,i-1-int(thetap))],))\n",
    "        z0 = z[1]                  # record new initial condition\n",
    "        # calculate new OP with PID\n",
    "        PV[i] = z0[1]              # record PV\n",
    "        e[i] = SP[i] - PV[i]       # calculate error = SP - PV\n",
    "        dt = t[i] - t[i-1]         # calculate time step\n",
    "        P[i] = Kc * e[i]           # calculate proportional term\n",
    "        OP[i] = min(100,max(0,P[i])) # calculate new controller output        \n",
    "\n",
    "    P = np.zeros(n)         # initialize proportional term\n",
    "    e = np.zeros(n)         # initialize error\n",
    "    OPu = np.zeros(n)       # initialize controller output\n",
    "    PVu = np.ones(n)*23.0   # initialize process variable\n",
    "    SP = np.ones(n)*23.0    # initialize setpoint\n",
    "    SP[10:] = 60.0          # step up\n",
    "    z0 = [0,23.0]           # initial condition\n",
    "    # loop through all time steps\n",
    "    for i in range(1,n):\n",
    "        # simulate process for one time step\n",
    "        ts = [t[i-1],t[i]]         # time interval\n",
    "        z = odeint(process,z0,ts,args=(OPu[max(0,i-1-int(thetap))],))\n",
    "        z0 = z[1]                  # record new initial condition\n",
    "        # calculate new OP with PID\n",
    "        PVu[i] = z0[1]             # record PV\n",
    "        e[i] = SP[i] - PVu[i]       # calculate error = SP - PV\n",
    "        dt = t[i] - t[i-1]         # calculate time step\n",
    "        P[i] = Kc * e[i]           # calculate proportional term\n",
    "        OPu[i] = P[i]               # calculate new controller output\n",
    "        \n",
    "    # plot PID response\n",
    "    plt.figure(1,figsize=(15,5))\n",
    "    plt.subplot(1,2,1)\n",
    "    plt.plot(t,SP,'k-',linewidth=2,label='Setpoint (SP)')\n",
    "    plt.plot(t,PV,'r-',linewidth=2,label='Temperature - OP Limits (PV)')\n",
    "    plt.plot(t,PVu,'b--',linewidth=2,label='Temperature - No OP Limits (PV)')\n",
    "    plt.ylabel(r'T $(^oC)$')\n",
    "    plt.text(100,30,'OP Limit Offset: ' + str(np.round(SP[-1]-PVu[-1],2)))\n",
    "    M = SP[-1]-SP[0]\n",
    "    pred_offset = M*(1-Kp*Kc/(1+Kp*Kc))\n",
    "    plt.text(100,25,'No OP Limit Offset: ' + str(np.round(pred_offset,2)))\n",
    "    plt.text(400,30,r'$K_c$: ' + str(np.round(Kc,1)))  \n",
    "    plt.legend(loc=1)\n",
    "    plt.xlabel('time (sec)')\n",
    "    plt.subplot(1,2,2)\n",
    "    plt.plot(t,OP,'r-',linewidth=2,label='Heater - OP Limits (OP)')\n",
    "    plt.plot(t,OPu,'b--',linewidth=2,label='Heater - No OP Limits (OP)')\n",
    "    plt.ylabel('Heater (%)')\n",
    "    plt.legend(loc='best')\n",
    "    plt.xlabel('time (sec)')\n",
    "\n",
    "Kc_slide = wg.FloatSlider(value=2.0,min=-2.0,max=400.0,step=1.0)\n",
    "wg.interact(pidPlot, Kc=Kc_slide)\n",
    "print('P-only Simulator with and without OP Limits: Adjust Kc')"
   ]
  }
 ],
 "metadata": {
  "kernelspec": {
   "display_name": "venv",
   "language": "python",
   "name": "python3"
  },
  "language_info": {
   "codemirror_mode": {
    "name": "ipython",
    "version": 3
   },
   "file_extension": ".py",
   "mimetype": "text/x-python",
   "name": "python",
   "nbconvert_exporter": "python",
   "pygments_lexer": "ipython3",
   "version": "3.10.11"
  }
 },
 "nbformat": 4,
 "nbformat_minor": 2
}
