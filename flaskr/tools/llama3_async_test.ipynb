{
 "cells": [
  {
   "cell_type": "code",
   "execution_count": 52,
   "metadata": {},
   "outputs": [],
   "source": [
    "# !pip install openai aiohttp nest_asyncio\n",
    "\n",
    "import json\n",
    "from IPython.display import Markdown, display\n",
    "import textwrap\n",
    "import asyncio\n",
    "import openai\n",
    "import aiohttp\n",
    "import nest_asyncio\n",
    "\n",
    "nest_asyncio.apply()\n",
    "openai.api_key = 'lm-studio'\n",
    "\n",
    "code_highlight = \", the code in response will be like this ```{program_language_name}\"\n",
    "\n",
    "def to_markdown(text):\n",
    "    text = text.replace('•', '  *')\n",
    "    return Markdown(textwrap.indent(text, '> ', predicate=lambda _: True))\n",
    "\n",
    "async def fetch_completion(my_msg, code_highlights = False):\n",
    "    async with aiohttp.ClientSession() as session:\n",
    "        async with session.post(\n",
    "            'http://localhost:1234/v1/chat/completions',\n",
    "            headers={\n",
    "                # 'Authorization': f'Bearer {openai.api_key}',\n",
    "                'Content-Type': 'application/json'\n",
    "            },\n",
    "            json={\n",
    "                'model': 'meta-llama-3.1-8b-instruct',\n",
    "                \"messages\": [\n",
    "                  { \"role\": \"system\", \"content\": \"if code is in response add the code like this ```{program_language_name}\" },\n",
    "                  { \"role\": \"user\", \"content\": my_msg if not code_highlights else my_msg + code_highlight }\n",
    "                ],\n",
    "                'temperature': 0.7,\n",
    "                \"max_tokens\": -1, # -1 for unlimited\n",
    "                \"stream\": True\n",
    "            }\n",
    "        ) as response:\n",
    "            content = \"\"\n",
    "            display_handle = display(to_markdown(content), display_id=True)\n",
    "            async for line in response.content:\n",
    "                line = line.decode('utf-8').strip()\n",
    "                if line.startswith(\"data: \"):\n",
    "                    data = line[len(\"data: \"):]\n",
    "                    if data != '[DONE]':\n",
    "                        json_data = json.loads(data)\n",
    "                        delta = json_data['choices'][0]['delta']\n",
    "                        if 'content' in delta:\n",
    "                            content += delta['content']\n",
    "                            display_handle.update(to_markdown(content))\n",
    "            return content\n",
    "\n",
    "# prompt = \"Once upon a time\"\n",
    "# full_ans = await fetch_completion(prompt)"
   ]
  },
  {
   "cell_type": "code",
   "execution_count": 53,
   "metadata": {},
   "outputs": [
    {
     "data": {
      "text/markdown": [
       "> **URL Data Retrieval Using Python**\n",
       "> ```python\n",
       "> import requests\n",
       "> \n",
       "> def get_url_data(url):\n",
       ">     \"\"\"\n",
       ">     Retrieves data from a given URL.\n",
       "> \n",
       ">     Args:\n",
       ">         url (str): The URL to retrieve data from.\n",
       "> \n",
       ">     Returns:\n",
       ">         str: The retrieved HTML content.\n",
       ">     \"\"\"\n",
       ">     try:\n",
       ">         response = requests.get(url)\n",
       ">         return response.text\n",
       ">     except requests.exceptions.RequestException as e:\n",
       ">         print(f\"An error occurred: {e}\")\n",
       ">         return None\n",
       "> \n",
       "> url = \"https://www.example.com\"\n",
       "> data = get_url_data(url)\n",
       "> print(data)\n",
       "> ```\n",
       "> This code uses the `requests` library to send a GET request to the provided URL and returns the HTML content. If an error occurs, it prints the error message and returns `None`."
      ],
      "text/plain": [
       "<IPython.core.display.Markdown object>"
      ]
     },
     "metadata": {},
     "output_type": "display_data"
    }
   ],
   "source": [
    "prompt = \"write in max 100 words python code that get url data\"\n",
    "full_ans = await fetch_completion(prompt, code_highlights=True)\n",
    "# print(full_ans)"
   ]
  }
 ],
 "metadata": {
  "kernelspec": {
   "display_name": "venv",
   "language": "python",
   "name": "python3"
  },
  "language_info": {
   "codemirror_mode": {
    "name": "ipython",
    "version": 3
   },
   "file_extension": ".py",
   "mimetype": "text/x-python",
   "name": "python",
   "nbconvert_exporter": "python",
   "pygments_lexer": "ipython3",
   "version": "3.10.11"
  }
 },
 "nbformat": 4,
 "nbformat_minor": 2
}
